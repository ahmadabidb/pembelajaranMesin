{
  "nbformat": 4,
  "nbformat_minor": 0,
  "metadata": {
    "colab": {
      "provenance": [],
      "collapsed_sections": []
    },
    "kernelspec": {
      "name": "python3",
      "display_name": "Python 3"
    },
    "language_info": {
      "name": "python"
    }
  },
  "cells": [
    {
      "cell_type": "code",
      "execution_count": 1,
      "metadata": {
        "id": "hPBi60lhlSQQ"
      },
      "outputs": [],
      "source": [
        "import numpy as np\n",
        "import pandas as pd\n",
        "from sklearn.model_selection import train_test_split\n",
        "from sklearn.svm import SVC"
      ]
    },
    {
      "cell_type": "code",
      "source": [
        "from google.colab import drive\n",
        "drive.mount('/content/drive')"
      ],
      "metadata": {
        "colab": {
          "base_uri": "https://localhost:8080/"
        },
        "id": "7jQpBeMXm5rr",
        "outputId": "10cc772c-e34e-4446-80db-99c55e896e59"
      },
      "execution_count": 2,
      "outputs": [
        {
          "output_type": "stream",
          "name": "stdout",
          "text": [
            "Drive already mounted at /content/drive; to attempt to forcibly remount, call drive.mount(\"/content/drive\", force_remount=True).\n"
          ]
        }
      ]
    },
    {
      "cell_type": "code",
      "source": [
        "voice = pd.read_csv('/content/drive/MyDrive/Colab Notebooks/voice.csv')"
      ],
      "metadata": {
        "id": "bnnNzA-hnKcA"
      },
      "execution_count": 3,
      "outputs": []
    },
    {
      "cell_type": "code",
      "source": [
        "voice.head()"
      ],
      "metadata": {
        "colab": {
          "base_uri": "https://localhost:8080/",
          "height": 300
        },
        "id": "7uKI_smwnT0C",
        "outputId": "28e02f89-372b-4d03-b6cd-1f79bb59398b"
      },
      "execution_count": 4,
      "outputs": [
        {
          "output_type": "execute_result",
          "data": {
            "text/plain": [
              "   meanfreq        sd    median       Q25       Q75       IQR       skew  \\\n",
              "0  0.059781  0.064241  0.032027  0.015071  0.090193  0.075122  12.863462   \n",
              "1  0.066009  0.067310  0.040229  0.019414  0.092666  0.073252  22.423285   \n",
              "2  0.077316  0.083829  0.036718  0.008701  0.131908  0.123207  30.757155   \n",
              "3  0.151228  0.072111  0.158011  0.096582  0.207955  0.111374   1.232831   \n",
              "4  0.135120  0.079146  0.124656  0.078720  0.206045  0.127325   1.101174   \n",
              "\n",
              "          kurt    sp.ent       sfm  ...  centroid   meanfun    minfun  \\\n",
              "0   274.402906  0.893369  0.491918  ...  0.059781  0.084279  0.015702   \n",
              "1   634.613855  0.892193  0.513724  ...  0.066009  0.107937  0.015826   \n",
              "2  1024.927705  0.846389  0.478905  ...  0.077316  0.098706  0.015656   \n",
              "3     4.177296  0.963322  0.727232  ...  0.151228  0.088965  0.017798   \n",
              "4     4.333713  0.971955  0.783568  ...  0.135120  0.106398  0.016931   \n",
              "\n",
              "     maxfun   meandom    mindom    maxdom   dfrange   modindx  label  \n",
              "0  0.275862  0.007812  0.007812  0.007812  0.000000  0.000000   male  \n",
              "1  0.250000  0.009014  0.007812  0.054688  0.046875  0.052632   male  \n",
              "2  0.271186  0.007990  0.007812  0.015625  0.007812  0.046512   male  \n",
              "3  0.250000  0.201497  0.007812  0.562500  0.554688  0.247119   male  \n",
              "4  0.266667  0.712812  0.007812  5.484375  5.476562  0.208274   male  \n",
              "\n",
              "[5 rows x 21 columns]"
            ],
            "text/html": [
              "\n",
              "  <div id=\"df-372e62f8-2a6b-4106-9712-ad8df6690968\">\n",
              "    <div class=\"colab-df-container\">\n",
              "      <div>\n",
              "<style scoped>\n",
              "    .dataframe tbody tr th:only-of-type {\n",
              "        vertical-align: middle;\n",
              "    }\n",
              "\n",
              "    .dataframe tbody tr th {\n",
              "        vertical-align: top;\n",
              "    }\n",
              "\n",
              "    .dataframe thead th {\n",
              "        text-align: right;\n",
              "    }\n",
              "</style>\n",
              "<table border=\"1\" class=\"dataframe\">\n",
              "  <thead>\n",
              "    <tr style=\"text-align: right;\">\n",
              "      <th></th>\n",
              "      <th>meanfreq</th>\n",
              "      <th>sd</th>\n",
              "      <th>median</th>\n",
              "      <th>Q25</th>\n",
              "      <th>Q75</th>\n",
              "      <th>IQR</th>\n",
              "      <th>skew</th>\n",
              "      <th>kurt</th>\n",
              "      <th>sp.ent</th>\n",
              "      <th>sfm</th>\n",
              "      <th>...</th>\n",
              "      <th>centroid</th>\n",
              "      <th>meanfun</th>\n",
              "      <th>minfun</th>\n",
              "      <th>maxfun</th>\n",
              "      <th>meandom</th>\n",
              "      <th>mindom</th>\n",
              "      <th>maxdom</th>\n",
              "      <th>dfrange</th>\n",
              "      <th>modindx</th>\n",
              "      <th>label</th>\n",
              "    </tr>\n",
              "  </thead>\n",
              "  <tbody>\n",
              "    <tr>\n",
              "      <th>0</th>\n",
              "      <td>0.059781</td>\n",
              "      <td>0.064241</td>\n",
              "      <td>0.032027</td>\n",
              "      <td>0.015071</td>\n",
              "      <td>0.090193</td>\n",
              "      <td>0.075122</td>\n",
              "      <td>12.863462</td>\n",
              "      <td>274.402906</td>\n",
              "      <td>0.893369</td>\n",
              "      <td>0.491918</td>\n",
              "      <td>...</td>\n",
              "      <td>0.059781</td>\n",
              "      <td>0.084279</td>\n",
              "      <td>0.015702</td>\n",
              "      <td>0.275862</td>\n",
              "      <td>0.007812</td>\n",
              "      <td>0.007812</td>\n",
              "      <td>0.007812</td>\n",
              "      <td>0.000000</td>\n",
              "      <td>0.000000</td>\n",
              "      <td>male</td>\n",
              "    </tr>\n",
              "    <tr>\n",
              "      <th>1</th>\n",
              "      <td>0.066009</td>\n",
              "      <td>0.067310</td>\n",
              "      <td>0.040229</td>\n",
              "      <td>0.019414</td>\n",
              "      <td>0.092666</td>\n",
              "      <td>0.073252</td>\n",
              "      <td>22.423285</td>\n",
              "      <td>634.613855</td>\n",
              "      <td>0.892193</td>\n",
              "      <td>0.513724</td>\n",
              "      <td>...</td>\n",
              "      <td>0.066009</td>\n",
              "      <td>0.107937</td>\n",
              "      <td>0.015826</td>\n",
              "      <td>0.250000</td>\n",
              "      <td>0.009014</td>\n",
              "      <td>0.007812</td>\n",
              "      <td>0.054688</td>\n",
              "      <td>0.046875</td>\n",
              "      <td>0.052632</td>\n",
              "      <td>male</td>\n",
              "    </tr>\n",
              "    <tr>\n",
              "      <th>2</th>\n",
              "      <td>0.077316</td>\n",
              "      <td>0.083829</td>\n",
              "      <td>0.036718</td>\n",
              "      <td>0.008701</td>\n",
              "      <td>0.131908</td>\n",
              "      <td>0.123207</td>\n",
              "      <td>30.757155</td>\n",
              "      <td>1024.927705</td>\n",
              "      <td>0.846389</td>\n",
              "      <td>0.478905</td>\n",
              "      <td>...</td>\n",
              "      <td>0.077316</td>\n",
              "      <td>0.098706</td>\n",
              "      <td>0.015656</td>\n",
              "      <td>0.271186</td>\n",
              "      <td>0.007990</td>\n",
              "      <td>0.007812</td>\n",
              "      <td>0.015625</td>\n",
              "      <td>0.007812</td>\n",
              "      <td>0.046512</td>\n",
              "      <td>male</td>\n",
              "    </tr>\n",
              "    <tr>\n",
              "      <th>3</th>\n",
              "      <td>0.151228</td>\n",
              "      <td>0.072111</td>\n",
              "      <td>0.158011</td>\n",
              "      <td>0.096582</td>\n",
              "      <td>0.207955</td>\n",
              "      <td>0.111374</td>\n",
              "      <td>1.232831</td>\n",
              "      <td>4.177296</td>\n",
              "      <td>0.963322</td>\n",
              "      <td>0.727232</td>\n",
              "      <td>...</td>\n",
              "      <td>0.151228</td>\n",
              "      <td>0.088965</td>\n",
              "      <td>0.017798</td>\n",
              "      <td>0.250000</td>\n",
              "      <td>0.201497</td>\n",
              "      <td>0.007812</td>\n",
              "      <td>0.562500</td>\n",
              "      <td>0.554688</td>\n",
              "      <td>0.247119</td>\n",
              "      <td>male</td>\n",
              "    </tr>\n",
              "    <tr>\n",
              "      <th>4</th>\n",
              "      <td>0.135120</td>\n",
              "      <td>0.079146</td>\n",
              "      <td>0.124656</td>\n",
              "      <td>0.078720</td>\n",
              "      <td>0.206045</td>\n",
              "      <td>0.127325</td>\n",
              "      <td>1.101174</td>\n",
              "      <td>4.333713</td>\n",
              "      <td>0.971955</td>\n",
              "      <td>0.783568</td>\n",
              "      <td>...</td>\n",
              "      <td>0.135120</td>\n",
              "      <td>0.106398</td>\n",
              "      <td>0.016931</td>\n",
              "      <td>0.266667</td>\n",
              "      <td>0.712812</td>\n",
              "      <td>0.007812</td>\n",
              "      <td>5.484375</td>\n",
              "      <td>5.476562</td>\n",
              "      <td>0.208274</td>\n",
              "      <td>male</td>\n",
              "    </tr>\n",
              "  </tbody>\n",
              "</table>\n",
              "<p>5 rows × 21 columns</p>\n",
              "</div>\n",
              "      <button class=\"colab-df-convert\" onclick=\"convertToInteractive('df-372e62f8-2a6b-4106-9712-ad8df6690968')\"\n",
              "              title=\"Convert this dataframe to an interactive table.\"\n",
              "              style=\"display:none;\">\n",
              "        \n",
              "  <svg xmlns=\"http://www.w3.org/2000/svg\" height=\"24px\"viewBox=\"0 0 24 24\"\n",
              "       width=\"24px\">\n",
              "    <path d=\"M0 0h24v24H0V0z\" fill=\"none\"/>\n",
              "    <path d=\"M18.56 5.44l.94 2.06.94-2.06 2.06-.94-2.06-.94-.94-2.06-.94 2.06-2.06.94zm-11 1L8.5 8.5l.94-2.06 2.06-.94-2.06-.94L8.5 2.5l-.94 2.06-2.06.94zm10 10l.94 2.06.94-2.06 2.06-.94-2.06-.94-.94-2.06-.94 2.06-2.06.94z\"/><path d=\"M17.41 7.96l-1.37-1.37c-.4-.4-.92-.59-1.43-.59-.52 0-1.04.2-1.43.59L10.3 9.45l-7.72 7.72c-.78.78-.78 2.05 0 2.83L4 21.41c.39.39.9.59 1.41.59.51 0 1.02-.2 1.41-.59l7.78-7.78 2.81-2.81c.8-.78.8-2.07 0-2.86zM5.41 20L4 18.59l7.72-7.72 1.47 1.35L5.41 20z\"/>\n",
              "  </svg>\n",
              "      </button>\n",
              "      \n",
              "  <style>\n",
              "    .colab-df-container {\n",
              "      display:flex;\n",
              "      flex-wrap:wrap;\n",
              "      gap: 12px;\n",
              "    }\n",
              "\n",
              "    .colab-df-convert {\n",
              "      background-color: #E8F0FE;\n",
              "      border: none;\n",
              "      border-radius: 50%;\n",
              "      cursor: pointer;\n",
              "      display: none;\n",
              "      fill: #1967D2;\n",
              "      height: 32px;\n",
              "      padding: 0 0 0 0;\n",
              "      width: 32px;\n",
              "    }\n",
              "\n",
              "    .colab-df-convert:hover {\n",
              "      background-color: #E2EBFA;\n",
              "      box-shadow: 0px 1px 2px rgba(60, 64, 67, 0.3), 0px 1px 3px 1px rgba(60, 64, 67, 0.15);\n",
              "      fill: #174EA6;\n",
              "    }\n",
              "\n",
              "    [theme=dark] .colab-df-convert {\n",
              "      background-color: #3B4455;\n",
              "      fill: #D2E3FC;\n",
              "    }\n",
              "\n",
              "    [theme=dark] .colab-df-convert:hover {\n",
              "      background-color: #434B5C;\n",
              "      box-shadow: 0px 1px 3px 1px rgba(0, 0, 0, 0.15);\n",
              "      filter: drop-shadow(0px 1px 2px rgba(0, 0, 0, 0.3));\n",
              "      fill: #FFFFFF;\n",
              "    }\n",
              "  </style>\n",
              "\n",
              "      <script>\n",
              "        const buttonEl =\n",
              "          document.querySelector('#df-372e62f8-2a6b-4106-9712-ad8df6690968 button.colab-df-convert');\n",
              "        buttonEl.style.display =\n",
              "          google.colab.kernel.accessAllowed ? 'block' : 'none';\n",
              "\n",
              "        async function convertToInteractive(key) {\n",
              "          const element = document.querySelector('#df-372e62f8-2a6b-4106-9712-ad8df6690968');\n",
              "          const dataTable =\n",
              "            await google.colab.kernel.invokeFunction('convertToInteractive',\n",
              "                                                     [key], {});\n",
              "          if (!dataTable) return;\n",
              "\n",
              "          const docLinkHtml = 'Like what you see? Visit the ' +\n",
              "            '<a target=\"_blank\" href=https://colab.research.google.com/notebooks/data_table.ipynb>data table notebook</a>'\n",
              "            + ' to learn more about interactive tables.';\n",
              "          element.innerHTML = '';\n",
              "          dataTable['output_type'] = 'display_data';\n",
              "          await google.colab.output.renderOutput(dataTable, element);\n",
              "          const docLink = document.createElement('div');\n",
              "          docLink.innerHTML = docLinkHtml;\n",
              "          element.appendChild(docLink);\n",
              "        }\n",
              "      </script>\n",
              "    </div>\n",
              "  </div>\n",
              "  "
            ]
          },
          "metadata": {},
          "execution_count": 4
        }
      ]
    },
    {
      "cell_type": "code",
      "source": [
        "voice.isnull().sum()"
      ],
      "metadata": {
        "colab": {
          "base_uri": "https://localhost:8080/"
        },
        "id": "3cO3jG2EnV55",
        "outputId": "45508e20-7e85-421e-b1ec-2073c1193fbc"
      },
      "execution_count": 5,
      "outputs": [
        {
          "output_type": "execute_result",
          "data": {
            "text/plain": [
              "meanfreq    0\n",
              "sd          0\n",
              "median      0\n",
              "Q25         0\n",
              "Q75         0\n",
              "IQR         0\n",
              "skew        0\n",
              "kurt        0\n",
              "sp.ent      0\n",
              "sfm         0\n",
              "mode        0\n",
              "centroid    0\n",
              "meanfun     0\n",
              "minfun      0\n",
              "maxfun      0\n",
              "meandom     0\n",
              "mindom      0\n",
              "maxdom      0\n",
              "dfrange     0\n",
              "modindx     0\n",
              "label       0\n",
              "dtype: int64"
            ]
          },
          "metadata": {},
          "execution_count": 5
        }
      ]
    },
    {
      "cell_type": "code",
      "source": [
        "X = voice.iloc[:, :-1]\n",
        "y = voice.iloc[:, -1]\n",
        "\n",
        "print(X.shape)\n",
        "print(y.shape)"
      ],
      "metadata": {
        "colab": {
          "base_uri": "https://localhost:8080/"
        },
        "id": "Tyv3J3ERnaOM",
        "outputId": "df75d92f-3721-4873-b80a-216a3ca75fac"
      },
      "execution_count": 6,
      "outputs": [
        {
          "output_type": "stream",
          "name": "stdout",
          "text": [
            "(3168, 20)\n",
            "(3168,)\n"
          ]
        }
      ]
    },
    {
      "cell_type": "code",
      "source": [
        "X_train, X_test, y_train, y_test = train_test_split(X, y, test_size=0.3, random_state=10)\n",
        "\n",
        "clf = SVC()\n",
        "clf.fit(X_train, y_train)\n",
        "\n",
        "y_pred = clf.predict(X_test)"
      ],
      "metadata": {
        "id": "o3hnYiJ8nogu"
      },
      "execution_count": 7,
      "outputs": []
    },
    {
      "cell_type": "code",
      "source": [
        "from sklearn.metrics import accuracy_score\n",
        "\n",
        "score = accuracy_score(y_test, y_pred)\n",
        "print(score)"
      ],
      "metadata": {
        "colab": {
          "base_uri": "https://localhost:8080/"
        },
        "id": "dGDONKNBnstX",
        "outputId": "b0e4652f-779c-4a5c-8957-73c7e0b2f9a2"
      },
      "execution_count": 8,
      "outputs": [
        {
          "output_type": "stream",
          "name": "stdout",
          "text": [
            "0.6729758149316509\n"
          ]
        }
      ]
    },
    {
      "cell_type": "code",
      "source": [
        "from sklearn.model_selection import GridSearchCV\n",
        "\n",
        "params = {\n",
        "     'kernel' : ['rbf', 'linear', 'poly'],\n",
        "     'C'      : [1, 5, 10, 50],\n",
        "     'gamma'  : [0.0001, 0.0005, 0.001, 0.005]\n",
        "}\n",
        "\n",
        "grid = GridSearchCV(clf, params, n_jobs=-1)\n",
        "\n",
        "%time grid.fit(X_train, y_train)\n",
        "\n",
        "print(f'Best Estimator: {grid.best_estimator_}')\n",
        "print(f'score: {grid.best_score_}')"
      ],
      "metadata": {
        "colab": {
          "base_uri": "https://localhost:8080/"
        },
        "id": "WLcw6soQnvNh",
        "outputId": "cacf5588-057c-4cc7-d733-154a2206c6d6"
      },
      "execution_count": 9,
      "outputs": [
        {
          "output_type": "stream",
          "name": "stdout",
          "text": [
            "CPU times: user 56.3 s, sys: 6.05 s, total: 1min 2s\n",
            "Wall time: 2h 3min 12s\n",
            "Best Estimator: SVC(C=10, gamma=0.0001, kernel='linear')\n",
            "score: 0.9693307302788116\n"
          ]
        }
      ]
    }
  ]
}