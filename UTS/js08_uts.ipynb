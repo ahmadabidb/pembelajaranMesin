{
 "cells": [
  {
   "cell_type": "markdown",
   "metadata": {},
   "source": [
    "## ANGGOTA KELOMPOK\n",
    "\n",
    "- 1. Achmad Wibawa\n",
    "- 2. Ahmad Abid Baihaqi\n",
    "- 3. Ahmad Thariq Ramadhan\n",
    "- 4. Dewangga Putra Yusafa\n",
    "- 5. Maulana Rosandy\n",
    "- 6. Moch Fajrul"
   ]
  },
  {
   "cell_type": "markdown",
   "metadata": {},
   "source": [
    "## Deteksi Emosi Pengguna Twitter\n",
    "\n",
    "Deteksi emosi merupakan salah satu permasalahan yang dihadapi pada ***Natural Language Processing*** (NLP). Alasanya diantaranya adalah kurangnya dataset berlabel untuk mengklasifikasikan emosi berdasarkan data twitter. Selain itu, sifat dari data twitter yang dapat memiliki banyak label emosi (***multi-class***). Manusia memiliki berbagai emosi dan sulit untuk mengumpulkan data yang cukup untuk setiap emosi. Oleh karena itu, masalah ketidakseimbangan kelas akan muncul (***class imbalance***). Pada Ujian Tengah Semester (UTS) kali ini, Anda telah disediakan dataset teks twitter yang sudah memiliki label untuk beberapa kelas emosi. Tugas utama Anda adalah membuat model yang mumpuni untuk kebutuhan klasifikasi emosi berdasarkan teks.\n",
    "\n",
    "### Informasi Data\n",
    "\n",
    "Dataset yang akan digunakan adalah ****tweet_emotion.csv***. Berikut merupakan informasi tentang dataset yang dapat membantu Anda.\n",
    "\n",
    "- Total data: 40000 data\n",
    "- Label emosi: anger, boredom, empty, enthusiasm, fun, happiness, hate, love, neutral, relief, sadness, surprise, worry\n",
    "- Jumlah data untuk setiap label tidak sama (***class imbalance***)\n",
    "- Terdapat 3 kolom = 'tweet_id', 'sentiment', 'content'\n",
    "\n",
    "### Penilaian UTS\n",
    "\n",
    "UTS akan dinilai berdasaarkan 4 proses yang akan Anda lakukan, yaitu pra pengolahan data, ektraksi fitur, pembuatan model machine learning, dan evaluasi.\n",
    "\n",
    "#### Pra Pengolahan Data\n",
    "\n",
    "> **Perhatian**\n",
    "> \n",
    "> Sebelum Anda melakukan sesuatu terhadap data Anda, pastikan data yang Anda miliki sudah \"baik\", bebas dari data yang hilang, menggunakan tipe data yang sesuai, dan sebagainya.\n",
    ">\n",
    "\n",
    "Data tweeter yang ada dapatkan merupakan sebuah data mentah, maka beberapa hal dapat Anda lakukan (namun tidak terbatas pada) yaitu,\n",
    "\n",
    "1. Case Folding\n",
    "2. Tokenizing\n",
    "3. Filtering\n",
    "4. Stemming\n",
    "\n",
    "*CATATAN: PADA DATA TWITTER TERDAPAT *MENTION* (@something) YANG ANDA HARUS TANGANI SEBELUM MASUK KE TAHAP EKSTRAKSI FITUR*\n",
    "\n",
    "#### Ekstrasi Fitur\n",
    "\n",
    "Anda dapat menggunakan beberapa metode, diantaranya\n",
    "\n",
    "1. Bag of Words (Count / TF-IDF)\n",
    "2. N-gram\n",
    "3. dan sebagainya\n",
    "\n",
    "#### Pembuatan Model\n",
    "\n",
    "Anda dibebaskan dalam memilih algoritma klasifikasi. Anda dapat menggunakan algoritma yang telah diajarkan didalam kelas atau yang lain, namun dengan catatan. Berdasarkan asas akuntabilitas pada pengembangan model machine learning, Anda harus dapat menjelaskan bagaimana model Anda dapat menghasilkan nilai tertentu.\n",
    "\n",
    "#### Evaluasi\n",
    "\n",
    "Pada proses evaluasi, minimal Anda harus menggunakan metric akurasi. Akan tetapi Anda juga dapat menambahkan metric lain seperti Recall, Precision, F1-Score, detail Confussion Metric, ataupun Area Under Curve (AUC)."
   ]
  },
  {
   "cell_type": "markdown",
   "metadata": {},
   "source": [
    "### Lembar Pengerjaan\n",
    "Lembar pengerjaan dimulai dari cell dibawah ini"
   ]
  },
  {
   "cell_type": "code",
   "execution_count": 1,
   "metadata": {},
   "outputs": [],
   "source": [
    "import numpy as np\n",
    "import pandas as pd"
   ]
  },
  {
   "cell_type": "code",
   "execution_count": 2,
   "metadata": {},
   "outputs": [
    {
     "data": {
      "text/html": [
       "<div>\n",
       "<style scoped>\n",
       "    .dataframe tbody tr th:only-of-type {\n",
       "        vertical-align: middle;\n",
       "    }\n",
       "\n",
       "    .dataframe tbody tr th {\n",
       "        vertical-align: top;\n",
       "    }\n",
       "\n",
       "    .dataframe thead th {\n",
       "        text-align: right;\n",
       "    }\n",
       "</style>\n",
       "<table border=\"1\" class=\"dataframe\">\n",
       "  <thead>\n",
       "    <tr style=\"text-align: right;\">\n",
       "      <th></th>\n",
       "      <th>tweet_id</th>\n",
       "      <th>sentiment</th>\n",
       "      <th>content</th>\n",
       "    </tr>\n",
       "  </thead>\n",
       "  <tbody>\n",
       "    <tr>\n",
       "      <th>0</th>\n",
       "      <td>1956967341</td>\n",
       "      <td>empty</td>\n",
       "      <td>@tiffanylue i know  i was listenin to bad habi...</td>\n",
       "    </tr>\n",
       "    <tr>\n",
       "      <th>1</th>\n",
       "      <td>1956967666</td>\n",
       "      <td>sadness</td>\n",
       "      <td>Layin n bed with a headache  ughhhh...waitin o...</td>\n",
       "    </tr>\n",
       "    <tr>\n",
       "      <th>2</th>\n",
       "      <td>1956967696</td>\n",
       "      <td>sadness</td>\n",
       "      <td>Funeral ceremony...gloomy friday...</td>\n",
       "    </tr>\n",
       "    <tr>\n",
       "      <th>3</th>\n",
       "      <td>1956967789</td>\n",
       "      <td>enthusiasm</td>\n",
       "      <td>wants to hang out with friends SOON!</td>\n",
       "    </tr>\n",
       "    <tr>\n",
       "      <th>4</th>\n",
       "      <td>1956968416</td>\n",
       "      <td>neutral</td>\n",
       "      <td>@dannycastillo We want to trade with someone w...</td>\n",
       "    </tr>\n",
       "  </tbody>\n",
       "</table>\n",
       "</div>"
      ],
      "text/plain": [
       "     tweet_id   sentiment                                            content\n",
       "0  1956967341       empty  @tiffanylue i know  i was listenin to bad habi...\n",
       "1  1956967666     sadness  Layin n bed with a headache  ughhhh...waitin o...\n",
       "2  1956967696     sadness                Funeral ceremony...gloomy friday...\n",
       "3  1956967789  enthusiasm               wants to hang out with friends SOON!\n",
       "4  1956968416     neutral  @dannycastillo We want to trade with someone w..."
      ]
     },
     "execution_count": 2,
     "metadata": {},
     "output_type": "execute_result"
    }
   ],
   "source": [
    "df = pd.read_csv('data/tweet_emotions.csv')\n",
    "\n",
    "df.head()"
   ]
  },
  {
   "cell_type": "code",
   "execution_count": 3,
   "metadata": {},
   "outputs": [
    {
     "data": {
      "text/plain": [
       "tweet_id     0\n",
       "sentiment    0\n",
       "content      0\n",
       "dtype: int64"
      ]
     },
     "execution_count": 3,
     "metadata": {},
     "output_type": "execute_result"
    }
   ],
   "source": [
    "#cek null\n",
    "df.isnull().sum()"
   ]
  },
  {
   "cell_type": "code",
   "execution_count": 4,
   "metadata": {},
   "outputs": [
    {
     "data": {
      "text/plain": [
       "0"
      ]
     },
     "execution_count": 4,
     "metadata": {},
     "output_type": "execute_result"
    }
   ],
   "source": [
    "#cek duplikasi data\n",
    "df.duplicated().sum()"
   ]
  },
  {
   "cell_type": "code",
   "execution_count": 5,
   "metadata": {},
   "outputs": [],
   "source": [
    "import nltk\n",
    "import re"
   ]
  },
  {
   "cell_type": "code",
   "execution_count": 6,
   "metadata": {},
   "outputs": [],
   "source": [
    "def casefolding(tweet):\n",
    "    tweet = tweet.lower()\n",
    "    return tweet"
   ]
  },
  {
   "cell_type": "code",
   "execution_count": 7,
   "metadata": {},
   "outputs": [],
   "source": [
    "def filtering(tweet):\n",
    "    # Remove link web\n",
    "    tweet = re.sub(r'http\\S+', '', tweet)\n",
    "    # Remove @username\n",
    "    tweet = re.sub('@[^\\s]+', '', tweet)\n",
    "    # Remove #tagger\n",
    "    tweet = re.sub(r'#([^\\s]+)', '', tweet)\n",
    "    # Remove angka termasuk angka yang berada dalam string\n",
    "    # Remove non ASCII chars\n",
    "    tweet = re.sub(r'(\\\\u[0-9A-Fa-f]+)', r'', tweet)\n",
    "    tweet = re.sub(r\"[^A-Za-z0-9^,!.\\/'+-=]\", \" \", tweet)\n",
    "    # Remove simbol, angka dan karakter aneh\n",
    "    tweet = re.sub(r\"[.,:;+!\\-_<^/=?\\\"'\\(\\)\\d\\*@]\", \" \", tweet)\n",
    "    return tweet"
   ]
  },
  {
   "cell_type": "code",
   "execution_count": 8,
   "metadata": {},
   "outputs": [],
   "source": [
    "# def tokenize(tweet):\n",
    "#     token = nltk.word_tokenize(tweet)\n",
    "#     return token\n",
    "from nltk.tokenize import TweetTokenizer\n",
    "token = TweetTokenizer()\n",
    "\n",
    "def tokenize(tweet):\n",
    "    tokens = token.tokenize(tweet)\n",
    "    return tokens"
   ]
  },
  {
   "cell_type": "code",
   "execution_count": 9,
   "metadata": {},
   "outputs": [
    {
     "name": "stderr",
     "output_type": "stream",
     "text": [
      "[nltk_data] Downloading package stopwords to C:\\Users\\AHMAD\n",
      "[nltk_data]     ABID\\AppData\\Roaming\\nltk_data...\n",
      "[nltk_data]   Package stopwords is already up-to-date!\n"
     ]
    }
   ],
   "source": [
    "from nltk.corpus import stopwords\n",
    "nltk.download('stopwords')\n",
    "\n",
    "sw = stopwords.words(\"english\")\n",
    "def removeStopword(tweet):\n",
    "    filteredtweet = [word for word in tweet.split() if word not in sw]\n",
    "    ps=nltk.porter.PorterStemmer()\n",
    "    temmed_words = [ps.stem(w) for w in filteredtweet]\n",
    "    tweet = \" \".join(temmed_words)\n",
    "    return tweet"
   ]
  },
  {
   "cell_type": "code",
   "execution_count": 10,
   "metadata": {},
   "outputs": [],
   "source": [
    "def preprocessing(tweet):\n",
    "    #casefolding\n",
    "    tweet = casefolding(tweet)\n",
    "    #filterring\n",
    "    tweet = filtering(tweet)\n",
    "    #stemming withstop words\n",
    "    # tweet = stemming(tweet)\n",
    "    tweet = removeStopword(tweet)\n",
    "    #tokenizing\n",
    "    # tweet = tokenize(tweet)\n",
    "\n",
    "    return tweet\n"
   ]
  },
  {
   "cell_type": "code",
   "execution_count": 11,
   "metadata": {},
   "outputs": [
    {
     "data": {
      "text/html": [
       "<div>\n",
       "<style scoped>\n",
       "    .dataframe tbody tr th:only-of-type {\n",
       "        vertical-align: middle;\n",
       "    }\n",
       "\n",
       "    .dataframe tbody tr th {\n",
       "        vertical-align: top;\n",
       "    }\n",
       "\n",
       "    .dataframe thead th {\n",
       "        text-align: right;\n",
       "    }\n",
       "</style>\n",
       "<table border=\"1\" class=\"dataframe\">\n",
       "  <thead>\n",
       "    <tr style=\"text-align: right;\">\n",
       "      <th></th>\n",
       "      <th>tweet_id</th>\n",
       "      <th>sentiment</th>\n",
       "      <th>content</th>\n",
       "      <th>hasil</th>\n",
       "    </tr>\n",
       "  </thead>\n",
       "  <tbody>\n",
       "    <tr>\n",
       "      <th>0</th>\n",
       "      <td>1956967341</td>\n",
       "      <td>empty</td>\n",
       "      <td>@tiffanylue i know  i was listenin to bad habi...</td>\n",
       "      <td>know listenin bad habit earlier start freakin ...</td>\n",
       "    </tr>\n",
       "    <tr>\n",
       "      <th>1</th>\n",
       "      <td>1956967666</td>\n",
       "      <td>sadness</td>\n",
       "      <td>Layin n bed with a headache  ughhhh...waitin o...</td>\n",
       "      <td>layin n bed headach ughhhh waitin call</td>\n",
       "    </tr>\n",
       "    <tr>\n",
       "      <th>2</th>\n",
       "      <td>1956967696</td>\n",
       "      <td>sadness</td>\n",
       "      <td>Funeral ceremony...gloomy friday...</td>\n",
       "      <td>funer ceremoni gloomi friday</td>\n",
       "    </tr>\n",
       "    <tr>\n",
       "      <th>3</th>\n",
       "      <td>1956967789</td>\n",
       "      <td>enthusiasm</td>\n",
       "      <td>wants to hang out with friends SOON!</td>\n",
       "      <td>want hang friend soon</td>\n",
       "    </tr>\n",
       "    <tr>\n",
       "      <th>4</th>\n",
       "      <td>1956968416</td>\n",
       "      <td>neutral</td>\n",
       "      <td>@dannycastillo We want to trade with someone w...</td>\n",
       "      <td>want trade someon houston ticket one</td>\n",
       "    </tr>\n",
       "    <tr>\n",
       "      <th>...</th>\n",
       "      <td>...</td>\n",
       "      <td>...</td>\n",
       "      <td>...</td>\n",
       "      <td>...</td>\n",
       "    </tr>\n",
       "    <tr>\n",
       "      <th>95</th>\n",
       "      <td>1956989514</td>\n",
       "      <td>sadness</td>\n",
       "      <td>@sweeetnspicy hiii im on my ipod...i cant fall...</td>\n",
       "      <td>hiii im ipod cant fall asleep</td>\n",
       "    </tr>\n",
       "    <tr>\n",
       "      <th>96</th>\n",
       "      <td>1956989526</td>\n",
       "      <td>sadness</td>\n",
       "      <td>dont wanna work 11-830 tomorrow  but i get paid</td>\n",
       "      <td>dont wanna work tomorrow get paid</td>\n",
       "    </tr>\n",
       "    <tr>\n",
       "      <th>97</th>\n",
       "      <td>1956989560</td>\n",
       "      <td>sadness</td>\n",
       "      <td>feels sad coz i wasnt able to play with the gu...</td>\n",
       "      <td>feel sad coz wasnt abl play guy</td>\n",
       "    </tr>\n",
       "    <tr>\n",
       "      <th>98</th>\n",
       "      <td>1956989561</td>\n",
       "      <td>neutral</td>\n",
       "      <td>PrinceCharming</td>\n",
       "      <td>princecharm</td>\n",
       "    </tr>\n",
       "    <tr>\n",
       "      <th>99</th>\n",
       "      <td>1956989601</td>\n",
       "      <td>hate</td>\n",
       "      <td>@ cayogial i wanted to come to BZ this summer ...</td>\n",
       "      <td>cayogi want come bz summer sure anymor teacher...</td>\n",
       "    </tr>\n",
       "  </tbody>\n",
       "</table>\n",
       "<p>100 rows × 4 columns</p>\n",
       "</div>"
      ],
      "text/plain": [
       "      tweet_id   sentiment                                            content  \\\n",
       "0   1956967341       empty  @tiffanylue i know  i was listenin to bad habi...   \n",
       "1   1956967666     sadness  Layin n bed with a headache  ughhhh...waitin o...   \n",
       "2   1956967696     sadness                Funeral ceremony...gloomy friday...   \n",
       "3   1956967789  enthusiasm               wants to hang out with friends SOON!   \n",
       "4   1956968416     neutral  @dannycastillo We want to trade with someone w...   \n",
       "..         ...         ...                                                ...   \n",
       "95  1956989514     sadness  @sweeetnspicy hiii im on my ipod...i cant fall...   \n",
       "96  1956989526     sadness    dont wanna work 11-830 tomorrow  but i get paid   \n",
       "97  1956989560     sadness  feels sad coz i wasnt able to play with the gu...   \n",
       "98  1956989561     neutral                                     PrinceCharming   \n",
       "99  1956989601        hate  @ cayogial i wanted to come to BZ this summer ...   \n",
       "\n",
       "                                                hasil  \n",
       "0   know listenin bad habit earlier start freakin ...  \n",
       "1              layin n bed headach ughhhh waitin call  \n",
       "2                        funer ceremoni gloomi friday  \n",
       "3                               want hang friend soon  \n",
       "4                want trade someon houston ticket one  \n",
       "..                                                ...  \n",
       "95                      hiii im ipod cant fall asleep  \n",
       "96                  dont wanna work tomorrow get paid  \n",
       "97                    feel sad coz wasnt abl play guy  \n",
       "98                                        princecharm  \n",
       "99  cayogi want come bz summer sure anymor teacher...  \n",
       "\n",
       "[100 rows x 4 columns]"
      ]
     },
     "execution_count": 11,
     "metadata": {},
     "output_type": "execute_result"
    }
   ],
   "source": [
    "dte = pd.read_csv('data/tweet_emotions.csv')\n",
    "\n",
    "dte['hasil'] = dte['content'].apply(preprocessing)\n",
    "\n",
    "dte.head(100)"
   ]
  },
  {
   "cell_type": "code",
   "execution_count": 12,
   "metadata": {},
   "outputs": [
    {
     "data": {
      "text/plain": [
       "neutral       8638\n",
       "worry         8459\n",
       "happiness     5209\n",
       "sadness       5165\n",
       "love          3842\n",
       "surprise      2187\n",
       "fun           1776\n",
       "relief        1526\n",
       "hate          1323\n",
       "empty          827\n",
       "enthusiasm     759\n",
       "boredom        179\n",
       "anger          110\n",
       "Name: sentiment, dtype: int64"
      ]
     },
     "execution_count": 12,
     "metadata": {},
     "output_type": "execute_result"
    }
   ],
   "source": [
    "dte[\"sentiment\"].value_counts()"
   ]
  },
  {
   "cell_type": "code",
   "execution_count": 13,
   "metadata": {},
   "outputs": [
    {
     "data": {
      "text/html": [
       "<div>\n",
       "<style scoped>\n",
       "    .dataframe tbody tr th:only-of-type {\n",
       "        vertical-align: middle;\n",
       "    }\n",
       "\n",
       "    .dataframe tbody tr th {\n",
       "        vertical-align: top;\n",
       "    }\n",
       "\n",
       "    .dataframe thead th {\n",
       "        text-align: right;\n",
       "    }\n",
       "</style>\n",
       "<table border=\"1\" class=\"dataframe\">\n",
       "  <thead>\n",
       "    <tr style=\"text-align: right;\">\n",
       "      <th></th>\n",
       "      <th>tweet_id</th>\n",
       "      <th>sentiment</th>\n",
       "      <th>content</th>\n",
       "      <th>hasil</th>\n",
       "    </tr>\n",
       "  </thead>\n",
       "  <tbody>\n",
       "    <tr>\n",
       "      <th>0</th>\n",
       "      <td>1956967341</td>\n",
       "      <td>2</td>\n",
       "      <td>@tiffanylue i know  i was listenin to bad habi...</td>\n",
       "      <td>know listenin bad habit earlier start freakin ...</td>\n",
       "    </tr>\n",
       "    <tr>\n",
       "      <th>1</th>\n",
       "      <td>1956967666</td>\n",
       "      <td>10</td>\n",
       "      <td>Layin n bed with a headache  ughhhh...waitin o...</td>\n",
       "      <td>layin n bed headach ughhhh waitin call</td>\n",
       "    </tr>\n",
       "    <tr>\n",
       "      <th>2</th>\n",
       "      <td>1956967696</td>\n",
       "      <td>10</td>\n",
       "      <td>Funeral ceremony...gloomy friday...</td>\n",
       "      <td>funer ceremoni gloomi friday</td>\n",
       "    </tr>\n",
       "    <tr>\n",
       "      <th>3</th>\n",
       "      <td>1956967789</td>\n",
       "      <td>3</td>\n",
       "      <td>wants to hang out with friends SOON!</td>\n",
       "      <td>want hang friend soon</td>\n",
       "    </tr>\n",
       "    <tr>\n",
       "      <th>4</th>\n",
       "      <td>1956968416</td>\n",
       "      <td>8</td>\n",
       "      <td>@dannycastillo We want to trade with someone w...</td>\n",
       "      <td>want trade someon houston ticket one</td>\n",
       "    </tr>\n",
       "  </tbody>\n",
       "</table>\n",
       "</div>"
      ],
      "text/plain": [
       "     tweet_id  sentiment                                            content  \\\n",
       "0  1956967341          2  @tiffanylue i know  i was listenin to bad habi...   \n",
       "1  1956967666         10  Layin n bed with a headache  ughhhh...waitin o...   \n",
       "2  1956967696         10                Funeral ceremony...gloomy friday...   \n",
       "3  1956967789          3               wants to hang out with friends SOON!   \n",
       "4  1956968416          8  @dannycastillo We want to trade with someone w...   \n",
       "\n",
       "                                               hasil  \n",
       "0  know listenin bad habit earlier start freakin ...  \n",
       "1             layin n bed headach ughhhh waitin call  \n",
       "2                       funer ceremoni gloomi friday  \n",
       "3                              want hang friend soon  \n",
       "4               want trade someon houston ticket one  "
      ]
     },
     "execution_count": 13,
     "metadata": {},
     "output_type": "execute_result"
    }
   ],
   "source": [
    "# encoding label\n",
    "from sklearn.preprocessing import LabelEncoder\n",
    "\n",
    "# Inisiasi label encoder\n",
    "encode = LabelEncoder()\n",
    "\n",
    "#Encode labels\n",
    "dte['sentiment'] = encode.fit_transform(dte['sentiment'])\n",
    "dte.head()"
   ]
  },
  {
   "cell_type": "code",
   "execution_count": 14,
   "metadata": {},
   "outputs": [],
   "source": [
    "from sklearn.feature_extraction.text import TfidfVectorizer\n",
    "from sklearn.model_selection import train_test_split\n",
    "\n",
    "tfidf_vect = TfidfVectorizer()\n",
    "\n",
    "X = tfidf_vect.fit_transform(dte[\"hasil\"])\n",
    "y = dte[\"sentiment\"]\n",
    "\n",
    "X_train, X_test,y_train,y_test = train_test_split(X, y, test_size=0.2, random_state=50)\n"
   ]
  },
  {
   "cell_type": "code",
   "execution_count": 15,
   "metadata": {},
   "outputs": [],
   "source": [
    "# from sklearn.svm import SVC\n",
    "\n",
    "# from sklearn.metrics import accuracy_score\n",
    "\n",
    "# model = SVC()\n",
    "# model.fit(X_train, y_train)\n",
    "# y_pred = model.predict(X_test)\n",
    "\n",
    "# score = accuracy_score(y_test, y_pred)\n",
    "# print(score)"
   ]
  },
  {
   "cell_type": "code",
   "execution_count": 16,
   "metadata": {},
   "outputs": [],
   "source": [
    "# from sklearn.svm import SVC\n",
    "# from sklearn.metrics import classification_report\n",
    "# from sklearn.metrics import accuracy_score, precision_score,classification_report\n",
    "\n",
    "# # C-Support Vector Classification\n",
    "# svc = SVC()\n",
    "\n",
    "# # Trainingg\n",
    "# svc.fit(X_train,y_train)\n",
    "\n",
    "# #prediksi data testing\n",
    "# y_pred_test = svc.predict(X_test)\n",
    "\n",
    "# #prediksi data training\n",
    "# y_pred_train = svc.predict(X_train)  \n",
    "\n",
    "# # Evaluasi akurasi data training\n",
    "# acc_train = accuracy_score(y_train, y_pred_train)\n",
    "\n",
    "# # Evaluasi akurasi data training\n",
    "# acc_test = accuracy_score(y_test, y_pred_test)\n",
    "\n",
    "# # Menghitung Precission\n",
    "# precission = precision_score(y_test, y_pred_test, average='weighted',zero_division=0)\n",
    "\n",
    "# # print(classification_report(y_test, y_pred_test, target_names=dte.keys(),zero_division=0))\n",
    "\n",
    "# # # Print hasil evaluasi\n",
    "# # print(f'Hasil akurasi data train: {acc_train}')\n",
    "# print(f'Hasil akurasi data test: {acc_test}')\n",
    "# print(f'Hasil presisi data test: {precission}')"
   ]
  },
  {
   "cell_type": "code",
   "execution_count": 17,
   "metadata": {},
   "outputs": [
    {
     "name": "stdout",
     "output_type": "stream",
     "text": [
      "Hasil akurasi data train: 0.43203125\n",
      "Hasil akurasi data test: 0.305125\n"
     ]
    }
   ],
   "source": [
    "from sklearn.naive_bayes import MultinomialNB\n",
    "from sklearn.metrics import accuracy_score\n",
    "\n",
    "# Inisiasi MultinomialNB\n",
    "mnb = MultinomialNB()\n",
    "\n",
    "# Fit model\n",
    "mnb.fit(X_train, y_train)\n",
    "\n",
    "# Prediksi dengan data training\n",
    "y_pred_train = mnb.predict(X_train)\n",
    "\n",
    "# Evaluasi akurasi data training\n",
    "acc_train = accuracy_score(y_train, y_pred_train)\n",
    "\n",
    "# Prediksi dengan data training\n",
    "y_pred_test = mnb.predict(X_test)\n",
    "\n",
    "# Evaluasi akurasi data training\n",
    "acc_test = accuracy_score(y_test, y_pred_test)\n",
    "\n",
    "# Print hasil evaluasi\n",
    "print(f'Hasil akurasi data train: {acc_train}')\n",
    "print(f'Hasil akurasi data test: {acc_test}')"
   ]
  },
  {
   "cell_type": "code",
   "execution_count": 18,
   "metadata": {},
   "outputs": [
    {
     "data": {
      "text/plain": [
       "Text(158.22222222222223, 0.5, 'Truth')"
      ]
     },
     "execution_count": 18,
     "metadata": {},
     "output_type": "execute_result"
    },
    {
     "data": {
      "image/png": "[encoded data removed]",
      "text/plain": [
       "<Figure size 1500x800 with 1 Axes>"
      ]
     },
     "metadata": {},
     "output_type": "display_data"
    }
   ],
   "source": [
    "from sklearn.metrics import confusion_matrix\n",
    "import matplotlib.pyplot as plt\n",
    "import seaborn as sns\n",
    "\n",
    "mat = confusion_matrix(y_test, y_pred_test)\n",
    "plt.figure (figsize=(15,8))\n",
    "sns.heatmap(mat, annot=True, cbar=False, fmt='g')\n",
    "plt.xlabel('Predicted')\n",
    "plt.ylabel('Truth')"
   ]
  },
  {
   "cell_type": "code",
   "execution_count": null,
   "metadata": {},
   "outputs": [],
   "source": []
  }
 ],
 "metadata": {
  "kernelspec": {
   "display_name": "Python 3.9.13 ('base')",
   "language": "python",
   "name": "python3"
  },
  "language_info": {
   "codemirror_mode": {
    "name": "ipython",
    "version": 3
   },
   "file_extension": ".py",
   "mimetype": "text/x-python",
   "name": "python",
   "nbconvert_exporter": "python",
   "pygments_lexer": "ipython3",
   "version": "3.9.13"
  },
  "orig_nbformat": 4,
  "vscode": {
   "interpreter": {
    "hash": "08ae2cd860fc92cc17051b6f12ce48b94e39a22f93268fd807a135a6af9d089c"
   }
  }
 },
 "nbformat": 4,
 "nbformat_minor": 2
}
