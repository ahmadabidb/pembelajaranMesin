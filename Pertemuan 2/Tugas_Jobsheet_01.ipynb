{
 "cells": [
  {
   "cell_type": "code",
   "execution_count": 3,
   "id": "a3202be5",
   "metadata": {},
   "outputs": [],
   "source": [
    "import pandas as pd\n",
    "from sklearn.feature_extraction.text import TfidfVectorizer"
   ]
  },
  {
   "cell_type": "code",
   "execution_count": 6,
   "id": "ac8ce4cd",
   "metadata": {},
   "outputs": [],
   "source": [
    "file = open('orange.txt', 'r').read() \n",
    "data = file.replace(':', '').split('.')\n",
    "\n",
    "vec = TfidfVectorizer(stop_words='english')\n",
    "response = vec.fit_transform(data)\n",
    "head = vec.get_feature_names_out()\n",
    "pd.DataFrame(response.todense()).to_csv('hasiltugas.csv', header=head)"
   ]
  },
  {
   "cell_type": "code",
   "execution_count": null,
   "id": "11771a3f",
   "metadata": {},
   "outputs": [],
   "source": []
  }
 ],
 "metadata": {
  "kernelspec": {
   "display_name": "Python 3 (ipykernel)",
   "language": "python",
   "name": "python3"
  },
  "language_info": {
   "codemirror_mode": {
    "name": "ipython",
    "version": 3
   },
   "file_extension": ".py",
   "mimetype": "text/x-python",
   "name": "python",
   "nbconvert_exporter": "python",
   "pygments_lexer": "ipython3",
   "version": "3.9.12"
  }
 },
 "nbformat": 4,
 "nbformat_minor": 5
}
